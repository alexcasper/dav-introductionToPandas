{
  "nbformat": 4,
  "nbformat_minor": 0,
  "metadata": {
    "celltoolbar": "Slideshow",
    "kernelspec": {
      "display_name": "Python 3",
      "language": "python",
      "name": "python3"
    },
    "language_info": {
      "codemirror_mode": {
        "name": "ipython",
        "version": 3
      },
      "file_extension": ".py",
      "mimetype": "text/x-python",
      "name": "python",
      "nbconvert_exporter": "python",
      "pygments_lexer": "ipython3",
      "version": "3.6.6"
    },
    "colab": {
      "name": "03 Titanic.ipynb",
      "provenance": []
    }
  },
  "cells": [
    {
      "cell_type": "markdown",
      "metadata": {
        "id": "3sY_3Ap6V6Tn",
        "colab_type": "text"
      },
      "source": [
        "# 03 Titanic\n",
        "\n",
        "![Titanic](https://pmcvariety.files.wordpress.com/2017/04/titanic.jpg?w=1000&h=563&crop=1)"
      ]
    },
    {
      "cell_type": "code",
      "metadata": {
        "id": "nOJbdsVMV6Tq",
        "colab_type": "code",
        "colab": {}
      },
      "source": [
        "import matplotlib.pyplot as plt\n",
        "import pandas as pd\n",
        "import seaborn as sns\n",
        "%matplotlib inline"
      ],
      "execution_count": 0,
      "outputs": []
    },
    {
      "cell_type": "markdown",
      "metadata": {
        "id": "CaT7l54YV6Tu",
        "colab_type": "text"
      },
      "source": [
        "## Tab separated values"
      ]
    },
    {
      "cell_type": "code",
      "metadata": {
        "id": "oHkBSzsgV6Tv",
        "colab_type": "code",
        "colab": {
          "base_uri": "https://localhost:8080/",
          "height": 175
        },
        "outputId": "4f1d2b4d-6c27-49d2-e22d-ecf88675e866"
      },
      "source": [
        "#titanic = pd.read_csv(\"titanic.txt\", sep='\\t')\n",
        "titanic = pd.read_csv(\"https://raw.githubusercontent.com/adaapp/dav-introductionToPandas/master/titanic.txt\", sep='\\t')\n",
        "titanic.head()"
      ],
      "execution_count": 2,
      "outputs": [
        {
          "output_type": "error",
          "ename": "NameError",
          "evalue": "ignored",
          "traceback": [
            "\u001b[0;31m---------------------------------------------------------------------------\u001b[0m",
            "\u001b[0;31mNameError\u001b[0m                                 Traceback (most recent call last)",
            "\u001b[0;32m<ipython-input-2-cbb2894c2c1c>\u001b[0m in \u001b[0;36m<module>\u001b[0;34m()\u001b[0m\n\u001b[0;32m----> 1\u001b[0;31m \u001b[0mtitanic\u001b[0m \u001b[0;34m=\u001b[0m \u001b[0mpd\u001b[0m\u001b[0;34m.\u001b[0m\u001b[0mread_csv\u001b[0m\u001b[0;34m(\u001b[0m\u001b[0;34m\"https://raw.githubusercontent.com/adaapp/dav-introductionToPandas/master/titanic.txt\"\u001b[0m\u001b[0;34m,\u001b[0m \u001b[0msep\u001b[0m\u001b[0;34m=\u001b[0m\u001b[0;34m'\\t'\u001b[0m\u001b[0;34m)\u001b[0m\u001b[0;34m\u001b[0m\u001b[0;34m\u001b[0m\u001b[0m\n\u001b[0m\u001b[1;32m      2\u001b[0m \u001b[0mtitanic\u001b[0m\u001b[0;34m.\u001b[0m\u001b[0mhead\u001b[0m\u001b[0;34m(\u001b[0m\u001b[0;34m)\u001b[0m\u001b[0;34m\u001b[0m\u001b[0;34m\u001b[0m\u001b[0m\n",
            "\u001b[0;31mNameError\u001b[0m: name 'pd' is not defined"
          ]
        }
      ]
    },
    {
      "cell_type": "markdown",
      "metadata": {
        "id": "cWJzIpLOV6Ty",
        "colab_type": "text"
      },
      "source": [
        "## Setting ordinal categories"
      ]
    },
    {
      "cell_type": "code",
      "metadata": {
        "id": "LrmVQP9rV6Tz",
        "colab_type": "code",
        "colab": {}
      },
      "source": [
        "titanic.Class = pd.Categorical(titanic.Class, categories=[\"Crew\",\"3\",\"2\",\"1\"])"
      ],
      "execution_count": 0,
      "outputs": []
    },
    {
      "cell_type": "markdown",
      "metadata": {
        "id": "z8AeACIjV6T1",
        "colab_type": "text"
      },
      "source": [
        "## Seaborn's catplot"
      ]
    },
    {
      "cell_type": "code",
      "metadata": {
        "scrolled": false,
        "id": "aiywc3zDV6T2",
        "colab_type": "code",
        "colab": {}
      },
      "source": [
        "sns.catplot(data=titanic, x=\"Sex\", hue=\"Class\", kind='count', col=\"Survived\");"
      ],
      "execution_count": 0,
      "outputs": []
    },
    {
      "cell_type": "code",
      "metadata": {
        "id": "vfiIsoEtV6T4",
        "colab_type": "code",
        "colab": {}
      },
      "source": [
        "from scipy import stats"
      ],
      "execution_count": 0,
      "outputs": []
    },
    {
      "cell_type": "markdown",
      "metadata": {
        "id": "xxFlfVnIV6T7",
        "colab_type": "text"
      },
      "source": [
        "## A non-parametric test"
      ]
    },
    {
      "cell_type": "code",
      "metadata": {
        "id": "hnzTa6nPV6T8",
        "colab_type": "code",
        "colab": {}
      },
      "source": [
        "stats.mannwhitneyu(titanic.loc[titanic.Survived == \"Alive\"].Paid.dropna(),\n",
        "                  titanic.loc[titanic.Survived == \"Dead\"].Paid.dropna(), alternative='greater')"
      ],
      "execution_count": 0,
      "outputs": []
    }
  ]
}